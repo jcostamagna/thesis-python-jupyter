{
 "cells": [
  {
   "cell_type": "markdown",
   "metadata": {},
   "source": [
    "# Imports"
   ]
  },
  {
   "cell_type": "code",
   "execution_count": 7,
   "metadata": {},
   "outputs": [],
   "source": [
    "import pandas as pd\n",
    "import psycopg2\n",
    "\n",
    "%matplotlib inline\n",
    "\n",
    "import matplotlib\n",
    "import numpy as np\n",
    "import matplotlib.pyplot as plt\n",
    "from datetime import datetime\n",
    "from sklearn import neighbors, datasets\n",
    "from matplotlib.colors import ListedColormap\n",
    "\n",
    "from numpy import loadtxt\n",
    "from xgboost import XGBClassifier\n",
    "from sklearn.model_selection import train_test_split\n",
    "from sklearn.metrics import accuracy_score"
   ]
  },
  {
   "cell_type": "code",
   "execution_count": 8,
   "metadata": {},
   "outputs": [
    {
     "data": {
      "text/html": [
       "<div>\n",
       "<style scoped>\n",
       "    .dataframe tbody tr th:only-of-type {\n",
       "        vertical-align: middle;\n",
       "    }\n",
       "\n",
       "    .dataframe tbody tr th {\n",
       "        vertical-align: top;\n",
       "    }\n",
       "\n",
       "    .dataframe thead th {\n",
       "        text-align: right;\n",
       "    }\n",
       "</style>\n",
       "<table border=\"1\" class=\"dataframe\">\n",
       "  <thead>\n",
       "    <tr style=\"text-align: right;\">\n",
       "      <th></th>\n",
       "      <th>speed_total_mean</th>\n",
       "      <th>steering_total_mean</th>\n",
       "      <th>brake_total_mean</th>\n",
       "      <th>throttle_total_mean</th>\n",
       "      <th>acceleration_total_mean</th>\n",
       "      <th>speed_total_var</th>\n",
       "      <th>steering_total_var</th>\n",
       "      <th>brake_total_var</th>\n",
       "      <th>throttle_total_var</th>\n",
       "      <th>acceleration_total_var</th>\n",
       "      <th>total_time</th>\n",
       "      <th>distancePed</th>\n",
       "      <th>max_speed</th>\n",
       "      <th>PKE</th>\n",
       "      <th>PKE_Steering</th>\n",
       "      <th>speed_react</th>\n",
       "      <th>reaction_time</th>\n",
       "      <th>hadCollision</th>\n",
       "    </tr>\n",
       "  </thead>\n",
       "  <tbody>\n",
       "    <tr>\n",
       "      <th>0</th>\n",
       "      <td>5.919151</td>\n",
       "      <td>0.503649</td>\n",
       "      <td>0.965743</td>\n",
       "      <td>0.820576</td>\n",
       "      <td>0.030731</td>\n",
       "      <td>13.796202</td>\n",
       "      <td>0.000655</td>\n",
       "      <td>0.014468</td>\n",
       "      <td>0.028719</td>\n",
       "      <td>0.039370</td>\n",
       "      <td>15.405173</td>\n",
       "      <td>89.992450</td>\n",
       "      <td>11.669766</td>\n",
       "      <td>1.932290</td>\n",
       "      <td>-0.000150</td>\n",
       "      <td>7.754880</td>\n",
       "      <td>1.048791</td>\n",
       "      <td>0</td>\n",
       "    </tr>\n",
       "    <tr>\n",
       "      <th>1</th>\n",
       "      <td>7.580378</td>\n",
       "      <td>0.499771</td>\n",
       "      <td>0.891302</td>\n",
       "      <td>0.878839</td>\n",
       "      <td>-0.026652</td>\n",
       "      <td>31.451253</td>\n",
       "      <td>0.000345</td>\n",
       "      <td>0.058767</td>\n",
       "      <td>0.010391</td>\n",
       "      <td>0.063480</td>\n",
       "      <td>11.412381</td>\n",
       "      <td>85.063860</td>\n",
       "      <td>13.499710</td>\n",
       "      <td>0.878493</td>\n",
       "      <td>0.000274</td>\n",
       "      <td>13.472353</td>\n",
       "      <td>2.106615</td>\n",
       "      <td>0</td>\n",
       "    </tr>\n",
       "    <tr>\n",
       "      <th>2</th>\n",
       "      <td>9.474048</td>\n",
       "      <td>0.494557</td>\n",
       "      <td>0.952182</td>\n",
       "      <td>0.781126</td>\n",
       "      <td>0.006292</td>\n",
       "      <td>53.873833</td>\n",
       "      <td>0.001231</td>\n",
       "      <td>0.022506</td>\n",
       "      <td>0.045416</td>\n",
       "      <td>0.106281</td>\n",
       "      <td>102.356492</td>\n",
       "      <td>789.212800</td>\n",
       "      <td>25.851397</td>\n",
       "      <td>2.857169</td>\n",
       "      <td>0.000108</td>\n",
       "      <td>25.585112</td>\n",
       "      <td>0.079211</td>\n",
       "      <td>1</td>\n",
       "    </tr>\n",
       "    <tr>\n",
       "      <th>3</th>\n",
       "      <td>3.398595</td>\n",
       "      <td>0.523305</td>\n",
       "      <td>0.960227</td>\n",
       "      <td>0.858795</td>\n",
       "      <td>0.027363</td>\n",
       "      <td>5.036717</td>\n",
       "      <td>0.000101</td>\n",
       "      <td>0.018643</td>\n",
       "      <td>0.075860</td>\n",
       "      <td>0.027735</td>\n",
       "      <td>14.315100</td>\n",
       "      <td>47.977978</td>\n",
       "      <td>10.266865</td>\n",
       "      <td>3.659420</td>\n",
       "      <td>-0.000627</td>\n",
       "      <td>NaN</td>\n",
       "      <td>NaN</td>\n",
       "      <td>0</td>\n",
       "    </tr>\n",
       "    <tr>\n",
       "      <th>4</th>\n",
       "      <td>11.669419</td>\n",
       "      <td>0.500661</td>\n",
       "      <td>0.891913</td>\n",
       "      <td>0.522365</td>\n",
       "      <td>0.008028</td>\n",
       "      <td>47.209285</td>\n",
       "      <td>0.000396</td>\n",
       "      <td>0.055982</td>\n",
       "      <td>0.112551</td>\n",
       "      <td>0.159198</td>\n",
       "      <td>7.505478</td>\n",
       "      <td>88.011610</td>\n",
       "      <td>20.055070</td>\n",
       "      <td>2.969647</td>\n",
       "      <td>-0.000258</td>\n",
       "      <td>19.412087</td>\n",
       "      <td>1.161592</td>\n",
       "      <td>0</td>\n",
       "    </tr>\n",
       "  </tbody>\n",
       "</table>\n",
       "</div>"
      ],
      "text/plain": [
       "   speed_total_mean  steering_total_mean  brake_total_mean  \\\n",
       "0          5.919151             0.503649          0.965743   \n",
       "1          7.580378             0.499771          0.891302   \n",
       "2          9.474048             0.494557          0.952182   \n",
       "3          3.398595             0.523305          0.960227   \n",
       "4         11.669419             0.500661          0.891913   \n",
       "\n",
       "   throttle_total_mean  acceleration_total_mean  speed_total_var  \\\n",
       "0             0.820576                 0.030731        13.796202   \n",
       "1             0.878839                -0.026652        31.451253   \n",
       "2             0.781126                 0.006292        53.873833   \n",
       "3             0.858795                 0.027363         5.036717   \n",
       "4             0.522365                 0.008028        47.209285   \n",
       "\n",
       "   steering_total_var  brake_total_var  throttle_total_var  \\\n",
       "0            0.000655         0.014468            0.028719   \n",
       "1            0.000345         0.058767            0.010391   \n",
       "2            0.001231         0.022506            0.045416   \n",
       "3            0.000101         0.018643            0.075860   \n",
       "4            0.000396         0.055982            0.112551   \n",
       "\n",
       "   acceleration_total_var  total_time  distancePed  max_speed       PKE  \\\n",
       "0                0.039370   15.405173    89.992450  11.669766  1.932290   \n",
       "1                0.063480   11.412381    85.063860  13.499710  0.878493   \n",
       "2                0.106281  102.356492   789.212800  25.851397  2.857169   \n",
       "3                0.027735   14.315100    47.977978  10.266865  3.659420   \n",
       "4                0.159198    7.505478    88.011610  20.055070  2.969647   \n",
       "\n",
       "   PKE_Steering  speed_react  reaction_time  hadCollision  \n",
       "0     -0.000150     7.754880       1.048791             0  \n",
       "1      0.000274    13.472353       2.106615             0  \n",
       "2      0.000108    25.585112       0.079211             1  \n",
       "3     -0.000627          NaN            NaN             0  \n",
       "4     -0.000258    19.412087       1.161592             0  "
      ]
     },
     "execution_count": 8,
     "metadata": {},
     "output_type": "execute_result"
    }
   ],
   "source": [
    "df = pd.read_csv(\"mergeData_v3.csv\")\n",
    "df.head()"
   ]
  },
  {
   "cell_type": "markdown",
   "metadata": {},
   "source": [
    "# Split data set"
   ]
  },
  {
   "cell_type": "code",
   "execution_count": 9,
   "metadata": {},
   "outputs": [],
   "source": [
    "from sklearn.model_selection import train_test_split\n",
    "\n",
    "data = df.copy()\n",
    "X = data.drop('hadCollision', axis=1) \n",
    "Y = data['hadCollision']\n",
    "\n",
    "X_train, X_test, y_train, y_test = train_test_split(X, Y, test_size=0.2, random_state=1, stratify=Y)"
   ]
  },
  {
   "cell_type": "markdown",
   "metadata": {},
   "source": [
    "# Train the XGBoost Model"
   ]
  },
  {
   "cell_type": "code",
   "execution_count": 10,
   "metadata": {},
   "outputs": [
    {
     "data": {
      "text/plain": [
       "XGBClassifier(base_score=0.5, booster='gbtree', colsample_bylevel=1,\n",
       "       colsample_bynode=1, colsample_bytree=1, gamma=0, learning_rate=0.1,\n",
       "       max_delta_step=0, max_depth=3, min_child_weight=1, missing=None,\n",
       "       n_estimators=100, n_jobs=1, nthread=None,\n",
       "       objective='binary:logistic', random_state=0, reg_alpha=0,\n",
       "       reg_lambda=1, scale_pos_weight=1, seed=None, silent=None,\n",
       "       subsample=1, verbosity=1)"
      ]
     },
     "execution_count": 10,
     "metadata": {},
     "output_type": "execute_result"
    }
   ],
   "source": [
    "# fit model no training data\n",
    "model = XGBClassifier()\n",
    "model.fit(X_train, y_train)"
   ]
  },
  {
   "cell_type": "markdown",
   "metadata": {},
   "source": [
    "# Make Predictions with XGBoost Model"
   ]
  },
  {
   "cell_type": "code",
   "execution_count": 12,
   "metadata": {},
   "outputs": [
    {
     "name": "stderr",
     "output_type": "stream",
     "text": [
      "/anaconda3/lib/python3.6/site-packages/sklearn/preprocessing/label.py:151: DeprecationWarning: The truth value of an empty array is ambiguous. Returning False, but in future this will result in an error. Use `array.size > 0` to check that an array is not empty.\n",
      "  if diff:\n"
     ]
    }
   ],
   "source": [
    "# make predictions for test data\n",
    "y_pred = model.predict(X_test)\n",
    "predictions = [round(value) for value in y_pred]"
   ]
  },
  {
   "cell_type": "code",
   "execution_count": 13,
   "metadata": {},
   "outputs": [
    {
     "name": "stdout",
     "output_type": "stream",
     "text": [
      "Accuracy: 93.89%\n"
     ]
    }
   ],
   "source": [
    "# evaluate predictions\n",
    "accuracy = accuracy_score(y_test, predictions)\n",
    "print(\"Accuracy: %.2f%%\" % (accuracy * 100.0))"
   ]
  },
  {
   "cell_type": "code",
   "execution_count": 14,
   "metadata": {},
   "outputs": [
    {
     "name": "stdout",
     "output_type": "stream",
     "text": [
      "Confusion Matrix\n",
      "[[117   2]\n",
      " [  6   6]]\n",
      "\n",
      "Classification Report\n",
      "             precision    recall  f1-score   support\n",
      "\n",
      "          0       0.95      0.98      0.97       119\n",
      "          1       0.75      0.50      0.60        12\n",
      "\n",
      "avg / total       0.93      0.94      0.93       131\n",
      "\n"
     ]
    }
   ],
   "source": [
    "#check accuracy of our model on the test data\n",
    "from sklearn import metrics\n",
    "\n",
    "print(\"Confusion Matrix\")\n",
    "print(\"{0}\".format(metrics.confusion_matrix(y_test, predictions)))\n",
    "print(\"\")\n",
    "\n",
    "print(\"Classification Report\")\n",
    "print(metrics.classification_report(y_test, predictions))"
   ]
  },
  {
   "cell_type": "code",
   "execution_count": null,
   "metadata": {},
   "outputs": [],
   "source": []
  }
 ],
 "metadata": {
  "kernelspec": {
   "display_name": "Python 3",
   "language": "python",
   "name": "python3"
  },
  "language_info": {
   "codemirror_mode": {
    "name": "ipython",
    "version": 3
   },
   "file_extension": ".py",
   "mimetype": "text/x-python",
   "name": "python",
   "nbconvert_exporter": "python",
   "pygments_lexer": "ipython3",
   "version": "3.6.5"
  }
 },
 "nbformat": 4,
 "nbformat_minor": 2
}
