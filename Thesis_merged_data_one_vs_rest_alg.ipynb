{
 "cells": [
  {
   "cell_type": "markdown",
   "metadata": {},
   "source": [
    "# Imports"
   ]
  },
  {
   "cell_type": "code",
   "execution_count": 1,
   "metadata": {},
   "outputs": [],
   "source": [
    "import pandas as pd\n",
    "import psycopg2\n",
    "\n",
    "%matplotlib inline\n",
    "\n",
    "import matplotlib\n",
    "import numpy as np\n",
    "import matplotlib.pyplot as plt\n",
    "from datetime import datetime\n",
    "from sklearn import neighbors, datasets\n",
    "from matplotlib.colors import ListedColormap"
   ]
  },
  {
   "cell_type": "markdown",
   "metadata": {},
   "source": [
    "# Read Data Set"
   ]
  },
  {
   "cell_type": "code",
   "execution_count": 2,
   "metadata": {},
   "outputs": [
    {
     "data": {
      "text/html": [
       "<div>\n",
       "<style scoped>\n",
       "    .dataframe tbody tr th:only-of-type {\n",
       "        vertical-align: middle;\n",
       "    }\n",
       "\n",
       "    .dataframe tbody tr th {\n",
       "        vertical-align: top;\n",
       "    }\n",
       "\n",
       "    .dataframe thead th {\n",
       "        text-align: right;\n",
       "    }\n",
       "</style>\n",
       "<table border=\"1\" class=\"dataframe\">\n",
       "  <thead>\n",
       "    <tr style=\"text-align: right;\">\n",
       "      <th></th>\n",
       "      <th>speed_total_mean</th>\n",
       "      <th>steering_total_mean</th>\n",
       "      <th>brake_total_mean</th>\n",
       "      <th>throttle_total_mean</th>\n",
       "      <th>acceleration_total_mean</th>\n",
       "      <th>speed_total_var</th>\n",
       "      <th>steering_total_var</th>\n",
       "      <th>brake_total_var</th>\n",
       "      <th>throttle_total_var</th>\n",
       "      <th>acceleration_total_var</th>\n",
       "      <th>total_time</th>\n",
       "      <th>distancePed</th>\n",
       "      <th>max_speed</th>\n",
       "      <th>PKE</th>\n",
       "      <th>PKE_Steering</th>\n",
       "      <th>speed_react</th>\n",
       "      <th>reaction_time</th>\n",
       "      <th>hadCollision</th>\n",
       "    </tr>\n",
       "  </thead>\n",
       "  <tbody>\n",
       "    <tr>\n",
       "      <th>0</th>\n",
       "      <td>5.919151</td>\n",
       "      <td>0.503649</td>\n",
       "      <td>0.965743</td>\n",
       "      <td>0.820576</td>\n",
       "      <td>0.030731</td>\n",
       "      <td>13.796202</td>\n",
       "      <td>0.000655</td>\n",
       "      <td>0.014468</td>\n",
       "      <td>0.028719</td>\n",
       "      <td>0.039370</td>\n",
       "      <td>15.405173</td>\n",
       "      <td>89.992450</td>\n",
       "      <td>11.669766</td>\n",
       "      <td>1.932290</td>\n",
       "      <td>-0.000150</td>\n",
       "      <td>7.754880</td>\n",
       "      <td>1.048791</td>\n",
       "      <td>0</td>\n",
       "    </tr>\n",
       "    <tr>\n",
       "      <th>1</th>\n",
       "      <td>7.580378</td>\n",
       "      <td>0.499771</td>\n",
       "      <td>0.891302</td>\n",
       "      <td>0.878839</td>\n",
       "      <td>-0.026652</td>\n",
       "      <td>31.451253</td>\n",
       "      <td>0.000345</td>\n",
       "      <td>0.058767</td>\n",
       "      <td>0.010391</td>\n",
       "      <td>0.063480</td>\n",
       "      <td>11.412381</td>\n",
       "      <td>85.063860</td>\n",
       "      <td>13.499710</td>\n",
       "      <td>0.878493</td>\n",
       "      <td>0.000274</td>\n",
       "      <td>13.472353</td>\n",
       "      <td>2.106615</td>\n",
       "      <td>0</td>\n",
       "    </tr>\n",
       "    <tr>\n",
       "      <th>2</th>\n",
       "      <td>9.474048</td>\n",
       "      <td>0.494557</td>\n",
       "      <td>0.952182</td>\n",
       "      <td>0.781126</td>\n",
       "      <td>0.006292</td>\n",
       "      <td>53.873833</td>\n",
       "      <td>0.001231</td>\n",
       "      <td>0.022506</td>\n",
       "      <td>0.045416</td>\n",
       "      <td>0.106281</td>\n",
       "      <td>102.356492</td>\n",
       "      <td>789.212800</td>\n",
       "      <td>25.851397</td>\n",
       "      <td>2.857169</td>\n",
       "      <td>0.000108</td>\n",
       "      <td>25.585112</td>\n",
       "      <td>0.079211</td>\n",
       "      <td>1</td>\n",
       "    </tr>\n",
       "    <tr>\n",
       "      <th>3</th>\n",
       "      <td>11.669419</td>\n",
       "      <td>0.500661</td>\n",
       "      <td>0.891913</td>\n",
       "      <td>0.522365</td>\n",
       "      <td>0.008028</td>\n",
       "      <td>47.209285</td>\n",
       "      <td>0.000396</td>\n",
       "      <td>0.055982</td>\n",
       "      <td>0.112551</td>\n",
       "      <td>0.159198</td>\n",
       "      <td>7.505478</td>\n",
       "      <td>88.011610</td>\n",
       "      <td>20.055070</td>\n",
       "      <td>2.969647</td>\n",
       "      <td>-0.000258</td>\n",
       "      <td>19.412087</td>\n",
       "      <td>1.161592</td>\n",
       "      <td>0</td>\n",
       "    </tr>\n",
       "    <tr>\n",
       "      <th>4</th>\n",
       "      <td>12.187044</td>\n",
       "      <td>0.499769</td>\n",
       "      <td>0.861132</td>\n",
       "      <td>0.558120</td>\n",
       "      <td>0.001881</td>\n",
       "      <td>42.031423</td>\n",
       "      <td>0.000430</td>\n",
       "      <td>0.102442</td>\n",
       "      <td>0.079023</td>\n",
       "      <td>0.158822</td>\n",
       "      <td>8.681609</td>\n",
       "      <td>105.973686</td>\n",
       "      <td>19.697004</td>\n",
       "      <td>4.033468</td>\n",
       "      <td>0.000066</td>\n",
       "      <td>18.461056</td>\n",
       "      <td>1.275896</td>\n",
       "      <td>0</td>\n",
       "    </tr>\n",
       "  </tbody>\n",
       "</table>\n",
       "</div>"
      ],
      "text/plain": [
       "   speed_total_mean  steering_total_mean  brake_total_mean  \\\n",
       "0          5.919151             0.503649          0.965743   \n",
       "1          7.580378             0.499771          0.891302   \n",
       "2          9.474048             0.494557          0.952182   \n",
       "3         11.669419             0.500661          0.891913   \n",
       "4         12.187044             0.499769          0.861132   \n",
       "\n",
       "   throttle_total_mean  acceleration_total_mean  speed_total_var  \\\n",
       "0             0.820576                 0.030731        13.796202   \n",
       "1             0.878839                -0.026652        31.451253   \n",
       "2             0.781126                 0.006292        53.873833   \n",
       "3             0.522365                 0.008028        47.209285   \n",
       "4             0.558120                 0.001881        42.031423   \n",
       "\n",
       "   steering_total_var  brake_total_var  throttle_total_var  \\\n",
       "0            0.000655         0.014468            0.028719   \n",
       "1            0.000345         0.058767            0.010391   \n",
       "2            0.001231         0.022506            0.045416   \n",
       "3            0.000396         0.055982            0.112551   \n",
       "4            0.000430         0.102442            0.079023   \n",
       "\n",
       "   acceleration_total_var  total_time  distancePed  max_speed       PKE  \\\n",
       "0                0.039370   15.405173    89.992450  11.669766  1.932290   \n",
       "1                0.063480   11.412381    85.063860  13.499710  0.878493   \n",
       "2                0.106281  102.356492   789.212800  25.851397  2.857169   \n",
       "3                0.159198    7.505478    88.011610  20.055070  2.969647   \n",
       "4                0.158822    8.681609   105.973686  19.697004  4.033468   \n",
       "\n",
       "   PKE_Steering  speed_react  reaction_time  hadCollision  \n",
       "0     -0.000150     7.754880       1.048791             0  \n",
       "1      0.000274    13.472353       2.106615             0  \n",
       "2      0.000108    25.585112       0.079211             1  \n",
       "3     -0.000258    19.412087       1.161592             0  \n",
       "4      0.000066    18.461056       1.275896             0  "
      ]
     },
     "execution_count": 2,
     "metadata": {},
     "output_type": "execute_result"
    }
   ],
   "source": [
    "df = pd.read_csv(\"mergeData_v4.csv\")\n",
    "df.head()"
   ]
  },
  {
   "cell_type": "markdown",
   "metadata": {},
   "source": [
    "### Distribution"
   ]
  },
  {
   "cell_type": "code",
   "execution_count": 3,
   "metadata": {},
   "outputs": [
    {
     "name": "stdout",
     "output_type": "stream",
     "text": [
      "Number of True cases:  54 (9.66%)\n",
      "Number of False cases: 505 (90.34%)\n"
     ]
    }
   ],
   "source": [
    "num_obs = len(df)\n",
    "num_true = len(df.loc[df['hadCollision'] == 1])\n",
    "num_false = len(df.loc[df['hadCollision'] == 0])\n",
    "print(\"Number of True cases:  {0} ({1:2.2f}%)\".format(num_true, (num_true/num_obs) * 100))\n",
    "print(\"Number of False cases: {0} ({1:2.2f}%)\".format(num_false, (num_false/num_obs) * 100))"
   ]
  },
  {
   "cell_type": "markdown",
   "metadata": {},
   "source": [
    "## Split data set"
   ]
  },
  {
   "cell_type": "code",
   "execution_count": 5,
   "metadata": {},
   "outputs": [],
   "source": [
    "from sklearn import svm, datasets\n",
    "from sklearn.model_selection import train_test_split\n",
    "import numpy as np\n",
    "\n",
    "data = df.copy()\n",
    "X = data.drop('hadCollision', axis=1) \n",
    "y = data['hadCollision']\n",
    "\n",
    "random_state = np.random.RandomState(0)\n",
    "\n",
    "# Limit to the two first classes, and split into training and test\n",
    "X_train, X_test, y_train, y_test = train_test_split(X[y < 2], y[y < 2],\n",
    "                                                    test_size=.5,\n",
    "                                                    random_state=random_state)\n",
    "\n",
    "# Create a simple classifier\n",
    "classifier = svm.LinearSVC(random_state=random_state)\n",
    "classifier.fit(X_train, y_train)\n",
    "y_score = classifier.decision_function(X_test)"
   ]
  },
  {
   "cell_type": "code",
   "execution_count": 6,
   "metadata": {},
   "outputs": [
    {
     "name": "stdout",
     "output_type": "stream",
     "text": [
      "Average precision-recall score: 0.43\n"
     ]
    }
   ],
   "source": [
    "from sklearn.metrics import average_precision_score\n",
    "average_precision = average_precision_score(y_test, y_score)\n",
    "\n",
    "print('Average precision-recall score: {0:0.2f}'.format(\n",
    "      average_precision))"
   ]
  },
  {
   "cell_type": "markdown",
   "metadata": {},
   "source": [
    "### Plot the Precision-Recall curve"
   ]
  },
  {
   "cell_type": "code",
   "execution_count": 7,
   "metadata": {},
   "outputs": [
    {
     "data": {
      "text/plain": [
       "Text(0.5,1,'2-class Precision-Recall curve: AP=0.43')"
      ]
     },
     "execution_count": 7,
     "metadata": {},
     "output_type": "execute_result"
    },
    {
     "data": {
      "image/png": "[encoded data removed]",
      "text/plain": [
       "<Figure size 432x288 with 1 Axes>"
      ]
     },
     "metadata": {},
     "output_type": "display_data"
    }
   ],
   "source": [
    "from sklearn.metrics import precision_recall_curve\n",
    "import matplotlib.pyplot as plt\n",
    "from inspect import signature\n",
    "\n",
    "precision, recall, _ = precision_recall_curve(y_test, y_score)\n",
    "\n",
    "# In matplotlib < 1.5, plt.fill_between does not have a 'step' argument\n",
    "step_kwargs = ({'step': 'post'}\n",
    "               if 'step' in signature(plt.fill_between).parameters\n",
    "               else {})\n",
    "plt.step(recall, precision, color='b', alpha=0.2,\n",
    "         where='post')\n",
    "plt.fill_between(recall, precision, alpha=0.2, color='b', **step_kwargs)\n",
    "\n",
    "plt.xlabel('Recall')\n",
    "plt.ylabel('Precision')\n",
    "plt.ylim([0.0, 1.05])\n",
    "plt.xlim([0.0, 1.0])\n",
    "plt.title('2-class Precision-Recall curve: AP={0:0.2f}'.format(\n",
    "          average_precision))"
   ]
  },
  {
   "cell_type": "markdown",
   "metadata": {},
   "source": [
    "## One vs Rest"
   ]
  },
  {
   "cell_type": "code",
   "execution_count": 27,
   "metadata": {},
   "outputs": [
    {
     "name": "stderr",
     "output_type": "stream",
     "text": [
      "/anaconda3/lib/python3.6/site-packages/sklearn/multiclass.py:76: UserWarning: Label not 2 is present in all training examples.\n",
      "  str(classes[c]))\n"
     ]
    }
   ],
   "source": [
    "from sklearn.preprocessing import label_binarize\n",
    "\n",
    "# Use label_binarize to be multi-label like settings\n",
    "Y = label_binarize(y, classes=[0, 1, 2])\n",
    "n_classes = Y.shape[1]\n",
    "\n",
    "# Split into training and test\n",
    "X_train, X_test, Y_train, Y_test = train_test_split(X, Y, test_size=.5,\n",
    "                                                    random_state=random_state)\n",
    "\n",
    "# We use OneVsRestClassifier for multi-label prediction\n",
    "from sklearn.multiclass import OneVsRestClassifier\n",
    "\n",
    "# Run classifier\n",
    "classifier = OneVsRestClassifier(svm.LinearSVC(random_state=random_state))\n",
    "classifier.fit(X_train, Y_train)\n",
    "y_score = classifier.decision_function(X_test)"
   ]
  },
  {
   "cell_type": "code",
   "execution_count": 28,
   "metadata": {},
   "outputs": [
    {
     "name": "stdout",
     "output_type": "stream",
     "text": [
      "Average precision score, micro-averaged over all classes: 0.84\n"
     ]
    },
    {
     "name": "stderr",
     "output_type": "stream",
     "text": [
      "/anaconda3/lib/python3.6/site-packages/sklearn/metrics/ranking.py:444: RuntimeWarning: invalid value encountered in true_divide\n",
      "  recall = tps / tps[-1]\n"
     ]
    }
   ],
   "source": [
    "from sklearn.metrics import precision_recall_curve\n",
    "from sklearn.metrics import average_precision_score\n",
    "\n",
    "# For each class\n",
    "precision = dict()\n",
    "recall = dict()\n",
    "average_precision = dict()\n",
    "for i in range(n_classes):\n",
    "    precision[i], recall[i], _ = precision_recall_curve(Y_test[:, i],\n",
    "                                                        y_score[:, i])\n",
    "    average_precision[i] = average_precision_score(Y_test[:, i], y_score[:, i])\n",
    "\n",
    "# A \"micro-average\": quantifying score on all classes jointly\n",
    "precision[\"micro\"], recall[\"micro\"], _ = precision_recall_curve(Y_test.ravel(),\n",
    "    y_score.ravel())\n",
    "average_precision[\"micro\"] = average_precision_score(Y_test, y_score,\n",
    "                                                     average=\"micro\")\n",
    "print('Average precision score, micro-averaged over all classes: {0:0.2f}'\n",
    "      .format(average_precision[\"micro\"]))"
   ]
  },
  {
   "cell_type": "markdown",
   "metadata": {},
   "source": [
    "### Plot the micro-averaged Precision-Recall curve"
   ]
  },
  {
   "cell_type": "code",
   "execution_count": 29,
   "metadata": {},
   "outputs": [
    {
     "data": {
      "text/plain": [
       "Text(0.5,1,'Average precision score, micro-averaged over all classes: AP=0.84')"
      ]
     },
     "execution_count": 29,
     "metadata": {},
     "output_type": "execute_result"
    },
    {
     "data": {
      "image/png": "[encoded data removed]",
      "text/plain": [
       "<Figure size 432x288 with 1 Axes>"
      ]
     },
     "metadata": {},
     "output_type": "display_data"
    }
   ],
   "source": [
    "plt.figure()\n",
    "plt.step(recall['micro'], precision['micro'], color='b', alpha=0.2,\n",
    "         where='post')\n",
    "plt.fill_between(recall[\"micro\"], precision[\"micro\"], alpha=0.2, color='b',\n",
    "                 **step_kwargs)\n",
    "\n",
    "plt.xlabel('Recall')\n",
    "plt.ylabel('Precision')\n",
    "plt.ylim([0.0, 1.05])\n",
    "plt.xlim([0.0, 1.0])\n",
    "plt.title(\n",
    "    'Average precision score, micro-averaged over all classes: AP={0:0.2f}'\n",
    "    .format(average_precision[\"micro\"]))"
   ]
  },
  {
   "cell_type": "code",
   "execution_count": null,
   "metadata": {},
   "outputs": [],
   "source": []
  }
 ],
 "metadata": {
  "kernelspec": {
   "display_name": "Python 3",
   "language": "python",
   "name": "python3"
  },
  "language_info": {
   "codemirror_mode": {
    "name": "ipython",
    "version": 3
   },
   "file_extension": ".py",
   "mimetype": "text/x-python",
   "name": "python",
   "nbconvert_exporter": "python",
   "pygments_lexer": "ipython3",
   "version": "3.6.5"
  }
 },
 "nbformat": 4,
 "nbformat_minor": 2
}
