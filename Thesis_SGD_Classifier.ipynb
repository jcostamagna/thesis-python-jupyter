{
 "cells": [
  {
   "cell_type": "markdown",
   "metadata": {},
   "source": [
    "# Imports"
   ]
  },
  {
   "cell_type": "code",
   "execution_count": 4,
   "metadata": {},
   "outputs": [],
   "source": [
    "import pandas as pd\n",
    "import psycopg2\n",
    "\n",
    "%matplotlib inline\n",
    "\n",
    "import matplotlib\n",
    "import numpy as np\n",
    "import matplotlib.pyplot as plt\n",
    "from datetime import datetime\n",
    "from sklearn import neighbors, datasets\n",
    "from matplotlib.colors import ListedColormap"
   ]
  },
  {
   "cell_type": "markdown",
   "metadata": {},
   "source": [
    "# Read Data Set"
   ]
  },
  {
   "cell_type": "code",
   "execution_count": 5,
   "metadata": {},
   "outputs": [
    {
     "data": {
      "text/html": [
       "<div>\n",
       "<style scoped>\n",
       "    .dataframe tbody tr th:only-of-type {\n",
       "        vertical-align: middle;\n",
       "    }\n",
       "\n",
       "    .dataframe tbody tr th {\n",
       "        vertical-align: top;\n",
       "    }\n",
       "\n",
       "    .dataframe thead th {\n",
       "        text-align: right;\n",
       "    }\n",
       "</style>\n",
       "<table border=\"1\" class=\"dataframe\">\n",
       "  <thead>\n",
       "    <tr style=\"text-align: right;\">\n",
       "      <th></th>\n",
       "      <th>speed_total_mean</th>\n",
       "      <th>steering_total_mean</th>\n",
       "      <th>brake_total_mean</th>\n",
       "      <th>throttle_total_mean</th>\n",
       "      <th>acceleration_total_mean</th>\n",
       "      <th>speed_total_var</th>\n",
       "      <th>steering_total_var</th>\n",
       "      <th>brake_total_var</th>\n",
       "      <th>throttle_total_var</th>\n",
       "      <th>acceleration_total_var</th>\n",
       "      <th>total_time</th>\n",
       "      <th>distancePed</th>\n",
       "      <th>max_speed</th>\n",
       "      <th>PKE</th>\n",
       "      <th>PKE_Steering</th>\n",
       "      <th>speed_react</th>\n",
       "      <th>reaction_time</th>\n",
       "      <th>hadCollision</th>\n",
       "    </tr>\n",
       "  </thead>\n",
       "  <tbody>\n",
       "    <tr>\n",
       "      <th>0</th>\n",
       "      <td>5.919151</td>\n",
       "      <td>0.503649</td>\n",
       "      <td>0.965743</td>\n",
       "      <td>0.820576</td>\n",
       "      <td>0.030731</td>\n",
       "      <td>13.796202</td>\n",
       "      <td>0.000655</td>\n",
       "      <td>0.014468</td>\n",
       "      <td>0.028719</td>\n",
       "      <td>0.039370</td>\n",
       "      <td>15.405173</td>\n",
       "      <td>89.992450</td>\n",
       "      <td>11.669766</td>\n",
       "      <td>1.932290</td>\n",
       "      <td>-0.000150</td>\n",
       "      <td>7.754880</td>\n",
       "      <td>1.048791</td>\n",
       "      <td>0</td>\n",
       "    </tr>\n",
       "    <tr>\n",
       "      <th>1</th>\n",
       "      <td>7.580378</td>\n",
       "      <td>0.499771</td>\n",
       "      <td>0.891302</td>\n",
       "      <td>0.878839</td>\n",
       "      <td>-0.026652</td>\n",
       "      <td>31.451253</td>\n",
       "      <td>0.000345</td>\n",
       "      <td>0.058767</td>\n",
       "      <td>0.010391</td>\n",
       "      <td>0.063480</td>\n",
       "      <td>11.412381</td>\n",
       "      <td>85.063860</td>\n",
       "      <td>13.499710</td>\n",
       "      <td>0.878493</td>\n",
       "      <td>0.000274</td>\n",
       "      <td>13.472353</td>\n",
       "      <td>2.106615</td>\n",
       "      <td>0</td>\n",
       "    </tr>\n",
       "    <tr>\n",
       "      <th>2</th>\n",
       "      <td>9.474048</td>\n",
       "      <td>0.494557</td>\n",
       "      <td>0.952182</td>\n",
       "      <td>0.781126</td>\n",
       "      <td>0.006292</td>\n",
       "      <td>53.873833</td>\n",
       "      <td>0.001231</td>\n",
       "      <td>0.022506</td>\n",
       "      <td>0.045416</td>\n",
       "      <td>0.106281</td>\n",
       "      <td>102.356492</td>\n",
       "      <td>789.212800</td>\n",
       "      <td>25.851397</td>\n",
       "      <td>2.857169</td>\n",
       "      <td>0.000108</td>\n",
       "      <td>25.585112</td>\n",
       "      <td>0.079211</td>\n",
       "      <td>1</td>\n",
       "    </tr>\n",
       "    <tr>\n",
       "      <th>3</th>\n",
       "      <td>11.669419</td>\n",
       "      <td>0.500661</td>\n",
       "      <td>0.891913</td>\n",
       "      <td>0.522365</td>\n",
       "      <td>0.008028</td>\n",
       "      <td>47.209285</td>\n",
       "      <td>0.000396</td>\n",
       "      <td>0.055982</td>\n",
       "      <td>0.112551</td>\n",
       "      <td>0.159198</td>\n",
       "      <td>7.505478</td>\n",
       "      <td>88.011610</td>\n",
       "      <td>20.055070</td>\n",
       "      <td>2.969647</td>\n",
       "      <td>-0.000258</td>\n",
       "      <td>19.412087</td>\n",
       "      <td>1.161592</td>\n",
       "      <td>0</td>\n",
       "    </tr>\n",
       "    <tr>\n",
       "      <th>4</th>\n",
       "      <td>12.187044</td>\n",
       "      <td>0.499769</td>\n",
       "      <td>0.861132</td>\n",
       "      <td>0.558120</td>\n",
       "      <td>0.001881</td>\n",
       "      <td>42.031423</td>\n",
       "      <td>0.000430</td>\n",
       "      <td>0.102442</td>\n",
       "      <td>0.079023</td>\n",
       "      <td>0.158822</td>\n",
       "      <td>8.681609</td>\n",
       "      <td>105.973686</td>\n",
       "      <td>19.697004</td>\n",
       "      <td>4.033468</td>\n",
       "      <td>0.000066</td>\n",
       "      <td>18.461056</td>\n",
       "      <td>1.275896</td>\n",
       "      <td>0</td>\n",
       "    </tr>\n",
       "  </tbody>\n",
       "</table>\n",
       "</div>"
      ],
      "text/plain": [
       "   speed_total_mean  steering_total_mean  brake_total_mean  \\\n",
       "0          5.919151             0.503649          0.965743   \n",
       "1          7.580378             0.499771          0.891302   \n",
       "2          9.474048             0.494557          0.952182   \n",
       "3         11.669419             0.500661          0.891913   \n",
       "4         12.187044             0.499769          0.861132   \n",
       "\n",
       "   throttle_total_mean  acceleration_total_mean  speed_total_var  \\\n",
       "0             0.820576                 0.030731        13.796202   \n",
       "1             0.878839                -0.026652        31.451253   \n",
       "2             0.781126                 0.006292        53.873833   \n",
       "3             0.522365                 0.008028        47.209285   \n",
       "4             0.558120                 0.001881        42.031423   \n",
       "\n",
       "   steering_total_var  brake_total_var  throttle_total_var  \\\n",
       "0            0.000655         0.014468            0.028719   \n",
       "1            0.000345         0.058767            0.010391   \n",
       "2            0.001231         0.022506            0.045416   \n",
       "3            0.000396         0.055982            0.112551   \n",
       "4            0.000430         0.102442            0.079023   \n",
       "\n",
       "   acceleration_total_var  total_time  distancePed  max_speed       PKE  \\\n",
       "0                0.039370   15.405173    89.992450  11.669766  1.932290   \n",
       "1                0.063480   11.412381    85.063860  13.499710  0.878493   \n",
       "2                0.106281  102.356492   789.212800  25.851397  2.857169   \n",
       "3                0.159198    7.505478    88.011610  20.055070  2.969647   \n",
       "4                0.158822    8.681609   105.973686  19.697004  4.033468   \n",
       "\n",
       "   PKE_Steering  speed_react  reaction_time  hadCollision  \n",
       "0     -0.000150     7.754880       1.048791             0  \n",
       "1      0.000274    13.472353       2.106615             0  \n",
       "2      0.000108    25.585112       0.079211             1  \n",
       "3     -0.000258    19.412087       1.161592             0  \n",
       "4      0.000066    18.461056       1.275896             0  "
      ]
     },
     "execution_count": 5,
     "metadata": {},
     "output_type": "execute_result"
    }
   ],
   "source": [
    "df = pd.read_csv(\"mergeData_v4.csv\")\n",
    "df.head()"
   ]
  },
  {
   "cell_type": "markdown",
   "metadata": {},
   "source": [
    "### Distribution"
   ]
  },
  {
   "cell_type": "code",
   "execution_count": 6,
   "metadata": {},
   "outputs": [
    {
     "name": "stdout",
     "output_type": "stream",
     "text": [
      "Number of True cases:  54 (9.66%)\n",
      "Number of False cases: 505 (90.34%)\n"
     ]
    }
   ],
   "source": [
    "num_obs = len(df)\n",
    "num_true = len(df.loc[df['hadCollision'] == 1])\n",
    "num_false = len(df.loc[df['hadCollision'] == 0])\n",
    "print(\"Number of True cases:  {0} ({1:2.2f}%)\".format(num_true, (num_true/num_obs) * 100))\n",
    "print(\"Number of False cases: {0} ({1:2.2f}%)\".format(num_false, (num_false/num_obs) * 100))"
   ]
  },
  {
   "cell_type": "markdown",
   "metadata": {},
   "source": [
    "## Split data set"
   ]
  },
  {
   "cell_type": "code",
   "execution_count": 7,
   "metadata": {},
   "outputs": [],
   "source": [
    "from sklearn.model_selection import train_test_split\n",
    "\n",
    "data = df.copy()\n",
    "X = data.drop('hadCollision', axis=1) \n",
    "Y = data['hadCollision']\n",
    "\n",
    "X_train, X_test, y_train, y_test = train_test_split(X, Y, test_size=0.4, random_state=1, stratify=Y)"
   ]
  },
  {
   "cell_type": "code",
   "execution_count": 8,
   "metadata": {},
   "outputs": [
    {
     "name": "stdout",
     "output_type": "stream",
     "text": [
      "Training True  : 32 (9.55%)\n",
      "Training False : 303 (90.45%)\n",
      "\n",
      "Test True      : 22 (9.82%)\n",
      "Test False     : 202 (90.18%)\n"
     ]
    }
   ],
   "source": [
    "print(\"Training True  : {0} ({1:0.2f}%)\".format(len(y_train[y_train[:] == 1]), (len(y_train[y_train[:] == 1])/len(y_train) * 100.0)))\n",
    "print(\"Training False : {0} ({1:0.2f}%)\".format(len(y_train[y_train[:] == 0]), (len(y_train[y_train[:] == 0])/len(y_train) * 100.0)))\n",
    "print(\"\")\n",
    "print(\"Test True      : {0} ({1:0.2f}%)\".format(len(y_test[y_test[:] == 1]), (len(y_test[y_test[:] == 1])/len(y_test) * 100.0)))\n",
    "print(\"Test False     : {0} ({1:0.2f}%)\".format(len(y_test[y_test[:] == 0]), (len(y_test[y_test[:] == 0])/len(y_test) * 100.0)))"
   ]
  },
  {
   "cell_type": "markdown",
   "metadata": {},
   "source": [
    "## SGD Classifier"
   ]
  },
  {
   "cell_type": "markdown",
   "metadata": {},
   "source": [
    "### Default set up"
   ]
  },
  {
   "cell_type": "code",
   "execution_count": 9,
   "metadata": {},
   "outputs": [
    {
     "data": {
      "text/plain": [
       "SGDClassifier(alpha=0.0001, average=False, class_weight=None, epsilon=0.1,\n",
       "       eta0=0.0, fit_intercept=True, l1_ratio=0.15,\n",
       "       learning_rate='optimal', loss='hinge', max_iter=1000, n_iter=None,\n",
       "       n_jobs=1, penalty='l2', power_t=0.5, random_state=None,\n",
       "       shuffle=True, tol=0.001, verbose=0, warm_start=False)"
      ]
     },
     "execution_count": 9,
     "metadata": {},
     "output_type": "execute_result"
    }
   ],
   "source": [
    "import numpy as np\n",
    "from sklearn import linear_model\n",
    "\n",
    "clf = linear_model.SGDClassifier(max_iter=1000, tol=1e-3)\n",
    "clf.fit(X_train, y_train)"
   ]
  },
  {
   "cell_type": "markdown",
   "metadata": {},
   "source": [
    "### Predict Test Data"
   ]
  },
  {
   "cell_type": "code",
   "execution_count": 10,
   "metadata": {},
   "outputs": [
    {
     "name": "stdout",
     "output_type": "stream",
     "text": [
      "Accuracy: 0.1339\n"
     ]
    }
   ],
   "source": [
    "from sklearn import metrics\n",
    "\n",
    "\n",
    "rf_predict_test = clf.predict(X_test)\n",
    "\n",
    "# training metrics\n",
    "print(\"Accuracy: {0:.4f}\".format(metrics.accuracy_score(y_test, rf_predict_test)))"
   ]
  },
  {
   "cell_type": "code",
   "execution_count": 11,
   "metadata": {},
   "outputs": [
    {
     "name": "stdout",
     "output_type": "stream",
     "text": [
      "[[  8 194]\n",
      " [  0  22]]\n",
      "\n",
      "Classification Report\n",
      "             precision    recall  f1-score   support\n",
      "\n",
      "          0       1.00      0.04      0.08       202\n",
      "          1       0.10      1.00      0.18        22\n",
      "\n",
      "avg / total       0.91      0.13      0.09       224\n",
      "\n"
     ]
    }
   ],
   "source": [
    "print(metrics.confusion_matrix(y_test, rf_predict_test) )\n",
    "print(\"\")\n",
    "print(\"Classification Report\")\n",
    "print(metrics.classification_report(y_test, rf_predict_test))"
   ]
  },
  {
   "cell_type": "markdown",
   "metadata": {},
   "source": [
    "## SGD with class weights"
   ]
  },
  {
   "cell_type": "code",
   "execution_count": 20,
   "metadata": {},
   "outputs": [
    {
     "data": {
      "text/plain": [
       "SGDClassifier(alpha=0.0001, average=False, class_weight={1: 0.9, 0: 0.1},\n",
       "       epsilon=0.1, eta0=0.0, fit_intercept=True, l1_ratio=0.15,\n",
       "       learning_rate='optimal', loss='hinge', max_iter=1000, n_iter=None,\n",
       "       n_jobs=1, penalty='l2', power_t=0.5, random_state=None,\n",
       "       shuffle=True, tol=0.001, verbose=0, warm_start=False)"
      ]
     },
     "execution_count": 20,
     "metadata": {},
     "output_type": "execute_result"
    }
   ],
   "source": [
    "class_weights = {1: .9, 0: .1}\n",
    "\n",
    "\n",
    "clf = linear_model.SGDClassifier(max_iter=1000, tol=1e-3, class_weight=class_weights)\n",
    "clf.fit(X_train, y_train)\n"
   ]
  },
  {
   "cell_type": "code",
   "execution_count": 21,
   "metadata": {},
   "outputs": [
    {
     "name": "stdout",
     "output_type": "stream",
     "text": [
      "Accuracy: 0.8929\n",
      "[[187  15]\n",
      " [  9  13]]\n",
      "\n",
      "Classification Report\n",
      "             precision    recall  f1-score   support\n",
      "\n",
      "          0       0.95      0.93      0.94       202\n",
      "          1       0.46      0.59      0.52        22\n",
      "\n",
      "avg / total       0.91      0.89      0.90       224\n",
      "\n"
     ]
    }
   ],
   "source": [
    "### Predict Test Data\n",
    "\n",
    "from sklearn import metrics\n",
    "\n",
    "\n",
    "rf_predict_test = clf.predict(X_test)\n",
    "\n",
    "# training metrics\n",
    "print(\"Accuracy: {0:.4f}\".format(metrics.accuracy_score(y_test, rf_predict_test)))\n",
    "\n",
    "print(metrics.confusion_matrix(y_test, rf_predict_test) )\n",
    "print(\"\")\n",
    "print(\"Classification Report\")\n",
    "print(metrics.classification_report(y_test, rf_predict_test))"
   ]
  },
  {
   "cell_type": "code",
   "execution_count": null,
   "metadata": {},
   "outputs": [],
   "source": []
  }
 ],
 "metadata": {
  "kernelspec": {
   "display_name": "Python 3",
   "language": "python",
   "name": "python3"
  },
  "language_info": {
   "codemirror_mode": {
    "name": "ipython",
    "version": 3
   },
   "file_extension": ".py",
   "mimetype": "text/x-python",
   "name": "python",
   "nbconvert_exporter": "python",
   "pygments_lexer": "ipython3",
   "version": "3.6.5"
  }
 },
 "nbformat": 4,
 "nbformat_minor": 2
}
